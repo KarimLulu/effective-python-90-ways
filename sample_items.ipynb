{
 "cells": [
  {
   "cell_type": "code",
   "execution_count": 30,
   "metadata": {},
   "outputs": [],
   "source": [
    "from IPython.core.interactiveshell import InteractiveShell\n",
    "InteractiveShell.ast_node_interactivity = \"all\""
   ]
  },
  {
   "cell_type": "code",
   "execution_count": 50,
   "metadata": {},
   "outputs": [],
   "source": [
    "import itertools\n",
    "import random"
   ]
  },
  {
   "cell_type": "markdown",
   "metadata": {},
   "source": [
    "#### Generators and `throw()`"
   ]
  },
  {
   "cell_type": "code",
   "execution_count": 47,
   "metadata": {},
   "outputs": [
    {
     "data": {
      "text/plain": [
       "1"
      ]
     },
     "execution_count": 47,
     "metadata": {},
     "output_type": "execute_result"
    },
    {
     "data": {
      "text/plain": [
       "2"
      ]
     },
     "execution_count": 47,
     "metadata": {},
     "output_type": "execute_result"
    },
    {
     "name": "stdout",
     "output_type": "stream",
     "text": [
      "Error('test error!')\n"
     ]
    },
    {
     "data": {
      "text/plain": [
       "4"
      ]
     },
     "execution_count": 47,
     "metadata": {},
     "output_type": "execute_result"
    }
   ],
   "source": [
    "class Error(Exception):\n",
    "    pass\n",
    "\n",
    "\n",
    "def gen():\n",
    "    \n",
    "    yield 1\n",
    "    try:\n",
    "        yield 2\n",
    "    except Error as err:\n",
    "        print(repr(err))\n",
    "    else:\n",
    "        yield 3\n",
    "    yield 4\n",
    "    \n",
    "it = gen()\n",
    "next(it)\n",
    "next(it)\n",
    "it.throw(Error(\"test error!\"))"
   ]
  },
  {
   "cell_type": "code",
   "execution_count": 272,
   "metadata": {},
   "outputs": [
    {
     "name": "stdout",
     "output_type": "stream",
     "text": [
      "remaining: 3\n",
      "remaining: 2\n",
      "remaining: 1\n",
      "remaining: 0\n"
     ]
    }
   ],
   "source": [
    "class Reset(Exception):\n",
    "    pass\n",
    "\n",
    "\n",
    "def timer(period):\n",
    "    try:\n",
    "        current = period\n",
    "        while current:\n",
    "            current -= 1\n",
    "            try:\n",
    "                yield current\n",
    "            except Reset:\n",
    "                current = period\n",
    "    finally:\n",
    "        pass\n",
    "\n",
    "def poll_for_reset(b):\n",
    "    rnd = random.randrange(b)\n",
    "    if rnd == b-1:\n",
    "        return True\n",
    "    return False\n",
    "\n",
    "\n",
    "def run():\n",
    "    it = timer(4)\n",
    "    is_started = False\n",
    "    while True:\n",
    "        try:\n",
    "            if is_started and poll_for_reset(5):\n",
    "                current = it.throw(Reset())\n",
    "            else:\n",
    "                is_started = True\n",
    "                current = next(it)\n",
    "        except StopIteration:\n",
    "            break\n",
    "        else:\n",
    "            print(f\"remaining: {current}\")\n",
    "            \n",
    "run()"
   ]
  },
  {
   "cell_type": "markdown",
   "metadata": {},
   "source": [
    "#### Itertools"
   ]
  },
  {
   "cell_type": "code",
   "execution_count": 276,
   "metadata": {},
   "outputs": [
    {
     "data": {
      "text/plain": [
       "[1, 2, 3, 4, 5]"
      ]
     },
     "execution_count": 276,
     "metadata": {},
     "output_type": "execute_result"
    }
   ],
   "source": [
    "it = itertools.chain([1, 2, 3], [4, 5])\n",
    "list(it)"
   ]
  },
  {
   "cell_type": "code",
   "execution_count": 277,
   "metadata": {},
   "outputs": [
    {
     "data": {
      "text/plain": [
       "['hi', 'hi', 'hi', 'hi', 'hi']"
      ]
     },
     "execution_count": 277,
     "metadata": {},
     "output_type": "execute_result"
    }
   ],
   "source": [
    "it = itertools.repeat(\"hi\", 5)\n",
    "list(it)"
   ]
  },
  {
   "cell_type": "code",
   "execution_count": 278,
   "metadata": {},
   "outputs": [
    {
     "data": {
      "text/plain": [
       "[4, 'a', 4, 'a', 4, 'a', 4, 'a', 4, 'a']"
      ]
     },
     "execution_count": 278,
     "metadata": {},
     "output_type": "execute_result"
    }
   ],
   "source": [
    "it = itertools.cycle([4, \"a\"])\n",
    "[next(it) for _ in range(10)]"
   ]
  },
  {
   "cell_type": "code",
   "execution_count": 282,
   "metadata": {},
   "outputs": [
    {
     "data": {
      "text/plain": [
       "1"
      ]
     },
     "execution_count": 282,
     "metadata": {},
     "output_type": "execute_result"
    },
    {
     "data": {
      "text/plain": [
       "1"
      ]
     },
     "execution_count": 282,
     "metadata": {},
     "output_type": "execute_result"
    },
    {
     "data": {
      "text/plain": [
       "2"
      ]
     },
     "execution_count": 282,
     "metadata": {},
     "output_type": "execute_result"
    },
    {
     "data": {
      "text/plain": [
       "2"
      ]
     },
     "execution_count": 282,
     "metadata": {},
     "output_type": "execute_result"
    }
   ],
   "source": [
    "it1, it2 = itertools.tee([1, 2, 3], 2)\n",
    "next(it1)\n",
    "next(it2)\n",
    "next(it1)\n",
    "next(it2)"
   ]
  },
  {
   "cell_type": "code",
   "execution_count": 285,
   "metadata": {},
   "outputs": [
    {
     "data": {
      "text/plain": [
       "[(1, 'a'), (2, 'foo')]"
      ]
     },
     "execution_count": 285,
     "metadata": {},
     "output_type": "execute_result"
    }
   ],
   "source": [
    "it = itertools.zip_longest([1, 2], \"a\", fillvalue=\"foo\")\n",
    "list(it)"
   ]
  },
  {
   "cell_type": "code",
   "execution_count": 295,
   "metadata": {},
   "outputs": [
    {
     "data": {
      "text/plain": [
       "[1, 3, 5, 7, 9]"
      ]
     },
     "execution_count": 295,
     "metadata": {},
     "output_type": "execute_result"
    }
   ],
   "source": [
    "odds = itertools.islice(range(10), 1, 10, 2)\n",
    "list(odds)"
   ]
  },
  {
   "cell_type": "code",
   "execution_count": 324,
   "metadata": {},
   "outputs": [
    {
     "data": {
      "text/plain": [
       "[(1, 1), (1, 2), (2, 1), (2, 2)]"
      ]
     },
     "execution_count": 324,
     "metadata": {},
     "output_type": "execute_result"
    },
    {
     "data": {
      "text/plain": [
       "[(1, 'a'), (1, 'b'), (2, 'a'), (2, 'b')]"
      ]
     },
     "execution_count": 324,
     "metadata": {},
     "output_type": "execute_result"
    },
    {
     "data": {
      "text/plain": [
       "[(1, 'a', 1, 'a'),\n",
       " (1, 'a', 1, 'b'),\n",
       " (1, 'a', 2, 'a'),\n",
       " (1, 'a', 2, 'b'),\n",
       " (1, 'b', 1, 'a'),\n",
       " (1, 'b', 1, 'b'),\n",
       " (1, 'b', 2, 'a'),\n",
       " (1, 'b', 2, 'b'),\n",
       " (2, 'a', 1, 'a'),\n",
       " (2, 'a', 1, 'b'),\n",
       " (2, 'a', 2, 'a'),\n",
       " (2, 'a', 2, 'b'),\n",
       " (2, 'b', 1, 'a'),\n",
       " (2, 'b', 1, 'b'),\n",
       " (2, 'b', 2, 'a'),\n",
       " (2, 'b', 2, 'b')]"
      ]
     },
     "execution_count": 324,
     "metadata": {},
     "output_type": "execute_result"
    }
   ],
   "source": [
    "it = itertools.product([1, 2], repeat=2)\n",
    "list(it)\n",
    "it = itertools.product([1, 2], \"ab\")\n",
    "list(it)\n",
    "it = itertools.product([1, 2], \"ab\", repeat=2)\n",
    "list(it)"
   ]
  },
  {
   "cell_type": "code",
   "execution_count": 331,
   "metadata": {},
   "outputs": [
    {
     "data": {
      "text/plain": [
       "[1000, 960.0, 918.0, 873.9000000000001, 827.5950000000001]"
      ]
     },
     "execution_count": 331,
     "metadata": {},
     "output_type": "execute_result"
    }
   ],
   "source": [
    "cashflows = [1000, -90, -90, -90, -90]\n",
    "list(itertools.accumulate(cashflows, lambda bal, pmt: bal*1.05 + pmt))"
   ]
  },
  {
   "cell_type": "code",
   "execution_count": 336,
   "metadata": {},
   "outputs": [
    {
     "data": {
      "text/plain": [
       "[4, 5, 6, 7, 8, 9]"
      ]
     },
     "execution_count": 336,
     "metadata": {},
     "output_type": "execute_result"
    }
   ],
   "source": [
    "it = itertools.dropwhile(lambda x: x ** 2 < 10, range(10))\n",
    "list(it)"
   ]
  },
  {
   "cell_type": "code",
   "execution_count": 348,
   "metadata": {},
   "outputs": [
    {
     "data": {
      "text/plain": [
       "[('a', 'b'), ('a', 'c'), ('b', 'a'), ('b', 'c'), ('c', 'a'), ('c', 'b')]"
      ]
     },
     "execution_count": 348,
     "metadata": {},
     "output_type": "execute_result"
    }
   ],
   "source": [
    "it = itertools.permutations(\"abc\", 2)\n",
    "list(it)"
   ]
  },
  {
   "cell_type": "code",
   "execution_count": 351,
   "metadata": {},
   "outputs": [
    {
     "name": "stdout",
     "output_type": "stream",
     "text": [
      "(1, 1)\n",
      "(1, 2)\n",
      "(1, 3)\n",
      "(2, 2)\n",
      "(2, 3)\n",
      "(3, 3)\n"
     ]
    }
   ],
   "source": [
    "it = itertools.combinations_with_replacement([1, 2, 3], 2)\n",
    "for el in it:\n",
    "    print(el)"
   ]
  },
  {
   "cell_type": "markdown",
   "metadata": {},
   "source": [
    "#### Properties"
   ]
  },
  {
   "cell_type": "code",
   "execution_count": 24,
   "metadata": {},
   "outputs": [
    {
     "name": "stdout",
     "output_type": "stream",
     "text": [
      "Initial NewBucket(max_quota=0, quota_consumed=0)\n",
      "Filled NewBucket(max_quota=100, quota_consumed=0)\n",
      "Had 50 quota\n",
      "Now NewBucket(max_quota=100, quota_consumed=50)\n",
      "Had 3 quota\n",
      "Now NewBucket(max_quota=100, quota_consumed=53)\n",
      "Had 1 quota\n",
      "Now NewBucket(max_quota=100, quota_consumed=54)\n",
      "Still NewBucket(max_quota=100, quota_consumed=54)\n"
     ]
    }
   ],
   "source": [
    "from datetime import timedelta, datetime\n",
    "\n",
    "\n",
    "class NewBucket:\n",
    "    def __init__(self, period):\n",
    "        self.period_delta = timedelta(seconds=period)\n",
    "        self.reset_time = datetime.now()\n",
    "        self.max_quota = 0\n",
    "        self.quota_consumed = 0\n",
    "\n",
    "    def __repr__(self):\n",
    "        return (f'NewBucket(max_quota={self.max_quota}, '\n",
    "                f'quota_consumed={self.quota_consumed})')\n",
    "    \n",
    "    @property\n",
    "    def quota(self):\n",
    "        return self.max_quota - self.quota_consumed\n",
    "    \n",
    "    @quota.setter\n",
    "    def quota(self, amount):\n",
    "        delta = self.max_quota - amount\n",
    "        if amount == 0:\n",
    "            # Quota being reset for a new period\n",
    "            self.quota_consumed = 0\n",
    "            self.max_quota = 0\n",
    "        elif delta < 0:\n",
    "            # Quota being filled for the new period\n",
    "            assert self.quota_consumed == 0\n",
    "            self.max_quota = amount\n",
    "        else:\n",
    "           # Quota being consumed during the period\n",
    "            assert self.max_quota >= self.quota_consumed\n",
    "            self.quota_consumed = delta\n",
    "\n",
    "def fill(bucket, amount):\n",
    "    now = datetime.now()\n",
    "    if (now - bucket.reset_time) > bucket.period_delta:\n",
    "        bucket.quota = 0\n",
    "        bucket.reset_time = now\n",
    "    bucket.quota += amount\n",
    "\n",
    "\n",
    "def deduct(bucket, amount):\n",
    "    now = datetime.now()\n",
    "    if (now - bucket.reset_time) > bucket.period_delta:\n",
    "        return False  # Bucket hasn't been filled this period\n",
    "    if bucket.quota - amount < 0:\n",
    "        return False  # Bucket was filled, but not enough\n",
    "\n",
    "    bucket.quota -= amount\n",
    "    return True       # Bucket had enough, quota consumed\n",
    "        \n",
    "bucket = NewBucket(60)\n",
    "print('Initial', bucket)\n",
    "fill(bucket, 100)\n",
    "print('Filled', bucket)\n",
    "\n",
    "if deduct(bucket, 50):\n",
    "    print('Had 50 quota')\n",
    "else:\n",
    "    print('Not enough for 50 quota')\n",
    "print('Now', bucket)\n",
    "\n",
    "if deduct(bucket, 3):\n",
    "    print('Had 3 quota')\n",
    "else:\n",
    "    print('Not enough for 3 quota')\n",
    "print('Now', bucket)\n",
    "if deduct(bucket, 1):\n",
    "    print('Had 1 quota')\n",
    "else:\n",
    "    print('Not enough for 1 quota')\n",
    "print('Now', bucket)\n",
    "print('Still', bucket)"
   ]
  },
  {
   "cell_type": "markdown",
   "metadata": {},
   "source": [
    "#### Descriptors"
   ]
  },
  {
   "cell_type": "code",
   "execution_count": 61,
   "metadata": {},
   "outputs": [],
   "source": [
    "from weakref import WeakKeyDictionary"
   ]
  },
  {
   "cell_type": "code",
   "execution_count": 62,
   "metadata": {},
   "outputs": [
    {
     "name": "stdout",
     "output_type": "stream",
     "text": [
      "75\n",
      "75 99\n"
     ]
    }
   ],
   "source": [
    "class Grade(object):\n",
    "    \n",
    "    def __init__(self):\n",
    "        self._values = WeakKeyDictionary()\n",
    "        \n",
    "    def __get__(self, instance, owner):\n",
    "        return self._values.get(instance, None)\n",
    "    \n",
    "    def __set__(self, instance, value):\n",
    "        if not 0 <= value <= 100:\n",
    "            raise ValueError(f\"Grade should be between 0 and 100, got {repr(value)} instead\")\n",
    "        self._values[instance] = value\n",
    "    \n",
    "\n",
    "class Exam(object):\n",
    "    \"\"\"Hold grades for all exams.\"\"\"\n",
    "    math = Grade()\n",
    "\n",
    "    \n",
    "exam = Exam()\n",
    "exam.math = 75\n",
    "print(exam.math)\n",
    "\n",
    "exam1 = Exam()\n",
    "exam1.math = 99\n",
    "print(exam.math, exam1.math)\n",
    "\n",
    "# Grade() constructed once for a class dictionary"
   ]
  },
  {
   "cell_type": "markdown",
   "metadata": {},
   "source": [
    "#### Use \\_\\_getattr\\_\\_, \\_\\_getattribute\\_\\_, and \\_\\_setattr\\_\\_ for Lazy Attributes"
   ]
  },
  {
   "cell_type": "code",
   "execution_count": 83,
   "metadata": {},
   "outputs": [
    {
     "name": "stdout",
     "output_type": "stream",
     "text": [
      "* Called __getattribute__('a')\n"
     ]
    },
    {
     "data": {
      "text/plain": [
       "4"
      ]
     },
     "execution_count": 83,
     "metadata": {},
     "output_type": "execute_result"
    }
   ],
   "source": [
    "class SavingRecord:\n",
    "    \n",
    "    \n",
    "    def __getattribute__(self, name):\n",
    "        print(f'* Called __getattribute__({name!r})')\n",
    "        return super().__getattribute__(name)\n",
    "    \n",
    "    def __setattr__(self, name, value):\n",
    "        # Save some data for the record\n",
    "        object.__setattr__(self, name, value)\n",
    "        \n",
    "record = SavingRecord()\n",
    "record.a = 4\n",
    "record.a"
   ]
  },
  {
   "cell_type": "code",
   "execution_count": 91,
   "metadata": {},
   "outputs": [
    {
     "name": "stdout",
     "output_type": "stream",
     "text": [
      "* Called __getattribute__('a')\n"
     ]
    },
    {
     "data": {
      "text/plain": [
       "3"
      ]
     },
     "execution_count": 91,
     "metadata": {},
     "output_type": "execute_result"
    }
   ],
   "source": [
    "class DictionaryRecord:\n",
    "    def __init__(self, data):\n",
    "        self._data = data\n",
    "\n",
    "    def __getattribute__(self, name):\n",
    "        print(f'* Called __getattribute__({name!r})')\n",
    "        data_dict = super().__getattribute__('_data')\n",
    "        return data_dict[name]\n",
    "    \n",
    "data = DictionaryRecord({\"a\": 3})\n",
    "data.a"
   ]
  },
  {
   "cell_type": "markdown",
   "metadata": {},
   "source": [
    "#### \\_\\_init\\_subclass\\_\\_"
   ]
  },
  {
   "cell_type": "code",
   "execution_count": 97,
   "metadata": {},
   "outputs": [
    {
     "name": "stdout",
     "output_type": "stream",
     "text": [
      "{}\n"
     ]
    },
    {
     "data": {
      "text/plain": [
       "'Bruce'"
      ]
     },
     "execution_count": 97,
     "metadata": {},
     "output_type": "execute_result"
    }
   ],
   "source": [
    "class Philosopher:\n",
    "    def __init_subclass__(cls, /, default_name, **kwargs):\n",
    "        print(kwargs)\n",
    "        super().__init_subclass__(**kwargs)\n",
    "        cls.default_name = default_name\n",
    "\n",
    "class AustralianPhilosopher(Philosopher, default_name=\"Bruce\"):\n",
    "    pass\n",
    "\n",
    "phil = AustralianPhilosopher()\n",
    "phil.default_name"
   ]
  },
  {
   "cell_type": "code",
   "execution_count": 99,
   "metadata": {},
   "outputs": [
    {
     "name": "stdout",
     "output_type": "stream",
     "text": [
      "Top for <class '__main__.Left'>\n",
      "Top for <class '__main__.Right'>\n",
      "Top for <class '__main__.Bottom'>\n",
      "Right for <class '__main__.Bottom'>\n",
      "Left for <class '__main__.Bottom'>\n",
      "Top for <class '__main__.B'>\n",
      "Right for <class '__main__.B'>\n",
      "Left for <class '__main__.B'>\n",
      "Bottom for <class '__main__.B'>\n"
     ]
    }
   ],
   "source": [
    "class Top:\n",
    "    def __init_subclass__(cls):\n",
    "        super().__init_subclass__()\n",
    "        print(f'Top for {cls}')\n",
    "\n",
    "class Left(Top):\n",
    "    def __init_subclass__(cls):\n",
    "        super().__init_subclass__()\n",
    "        print(f'Left for {cls}')\n",
    "\n",
    "class Right(Top):\n",
    "    def __init_subclass__(cls):\n",
    "        super().__init_subclass__()\n",
    "        print(f'Right for {cls}')\n",
    "\n",
    "class Bottom(Left, Right):\n",
    "    def __init_subclass__(cls):\n",
    "        super().__init_subclass__()\n",
    "        print(f'Bottom for {cls}')\n",
    "        \n",
    "class B(Bottom):\n",
    "    pass"
   ]
  }
 ],
 "metadata": {
  "kernelspec": {
   "display_name": "Python 3",
   "language": "python",
   "name": "python3"
  },
  "language_info": {
   "codemirror_mode": {
    "name": "ipython",
    "version": 3
   },
   "file_extension": ".py",
   "mimetype": "text/x-python",
   "name": "python",
   "nbconvert_exporter": "python",
   "pygments_lexer": "ipython3",
   "version": "3.8.0"
  }
 },
 "nbformat": 4,
 "nbformat_minor": 4
}
